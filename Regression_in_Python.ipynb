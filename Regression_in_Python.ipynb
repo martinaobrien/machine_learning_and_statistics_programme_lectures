{
 "cells": [
  {
   "cell_type": "markdown",
   "metadata": {},
   "source": [
    "## Simple Linear Regression with NumPy\n",
    "\n"
   ]
  },
  {
   "cell_type": "markdown",
   "metadata": {},
   "source": [
    "In school, students are taught to draw lines like the following.\n",
    "\n",
    "$ y=2x+1 $ \n",
    "\n",
    "<br>\n",
    "They're taught to pick two values for x and calculate the corresponding values for y using the equation. Then they draw a set of axes, plot the points, and then draw a line extending through the two dots on their axes."
   ]
  },
  {
   "cell_type": "code",
   "execution_count": 2,
   "metadata": {},
   "outputs": [],
   "source": [
    "# Import matplotlib.\n",
    "import matplotlib.pyplot as plt"
   ]
  },
  {
   "cell_type": "code",
   "execution_count": 3,
   "metadata": {},
   "outputs": [
    {
     "data": {
      "image/png": "[encoded data removed]",
      "text/plain": [
       "<Figure size 432x288 with 1 Axes>"
      ]
     },
     "metadata": {
      "needs_background": "light"
     },
     "output_type": "display_data"
    }
   ],
   "source": [
    "# Draw some axes.\n",
    "plt.plot([-1, 10], [0, 0], 'k-')\n",
    "plt.plot([0, 0], [-1, 10], 'k-')\n",
    "\n",
    "# Plot the red, blue and green lines.\n",
    "plt.plot([1, 1], [-1, 3], 'b:')\n",
    "plt.plot([-1, 1], [3, 3], 'r:')\n",
    "\n",
    "# Plot the two points (1,3) and (2,5).\n",
    "plt.plot([1, 2], [3, 5], 'ko')\n",
    "# Join them with an (extending) green lines.\n",
    "plt.plot([-1, 10], [-1, 21], 'g-')\n",
    "\n",
    "# Set some reasonable plot limits.\n",
    "plt.xlim([-1, 10])\n",
    "plt.ylim([-1, 10])\n",
    "\n",
    "# Show the plot.\n",
    "plt.show()"
   ]
  },
  {
   "cell_type": "code",
   "execution_count": null,
   "metadata": {},
   "outputs": [],
   "source": []
  }
 ],
 "metadata": {
  "kernelspec": {
   "display_name": "Python 3",
   "language": "python",
   "name": "python3"
  },
  "language_info": {
   "codemirror_mode": {
    "name": "ipython",
    "version": 3
   },
   "file_extension": ".py",
   "mimetype": "text/x-python",
   "name": "python",
   "nbconvert_exporter": "python",
   "pygments_lexer": "ipython3",
   "version": "3.8.3"
  }
 },
 "nbformat": 4,
 "nbformat_minor": 4
}
